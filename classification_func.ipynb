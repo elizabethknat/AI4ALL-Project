{
    "metadata": {
        "kernelspec": {
            "name": "python3",
            "display_name": "Python 3",
            "language": "python"
        }
    },
    "nbformat": 4,
    "nbformat_minor": 2,
    "cells": [
        {
            "cell_type": "code",
            "execution_count": 83,
            "metadata": {},
            "outputs": [],
            "source": [
                "# import\n",
                "import pandas as pd"
            ]
        },
        {
            "cell_type": "code",
            "execution_count": 84,
            "metadata": {},
            "outputs": [
                {
                    "data": {
                        "text/html": "\u003cdiv\u003e\n\u003cstyle scoped\u003e\n    .dataframe tbody tr th:only-of-type {\n        vertical-align: middle;\n    }\n\n    .dataframe tbody tr th {\n        vertical-align: top;\n    }\n\n    .dataframe thead th {\n        text-align: right;\n    }\n\u003c/style\u003e\n\u003ctable border=\"1\" class=\"dataframe\"\u003e\n  \u003cthead\u003e\n    \u003ctr style=\"text-align: right;\"\u003e\n      \u003cth\u003e\u003c/th\u003e\n      \u003cth\u003eAge\u003c/th\u003e\n      \u003cth\u003eSex\u003c/th\u003e\n      \u003cth\u003ecp\u003c/th\u003e\n      \u003cth\u003erestbps\u003c/th\u003e\n      \u003cth\u003echol\u003c/th\u003e\n      \u003cth\u003efbs\u003c/th\u003e\n      \u003cth\u003erest ecg\u003c/th\u003e\n      \u003cth\u003ethalac\u003c/th\u003e\n      \u003cth\u003eexang\u003c/th\u003e\n      \u003cth\u003eoldpeak\u003c/th\u003e\n      \u003cth\u003eslope\u003c/th\u003e\n      \u003cth\u003eca\u003c/th\u003e\n      \u003cth\u003ethal\u003c/th\u003e\n      \u003cth\u003enum\u003c/th\u003e\n    \u003c/tr\u003e\n  \u003c/thead\u003e\n  \u003ctbody\u003e\n    \u003ctr\u003e\n      \u003cth\u003e0\u003c/th\u003e\n      \u003ctd\u003e63\u003c/td\u003e\n      \u003ctd\u003e1\u003c/td\u003e\n      \u003ctd\u003e1\u003c/td\u003e\n      \u003ctd\u003e145\u003c/td\u003e\n      \u003ctd\u003e233\u003c/td\u003e\n      \u003ctd\u003e1\u003c/td\u003e\n      \u003ctd\u003e2\u003c/td\u003e\n      \u003ctd\u003e150\u003c/td\u003e\n      \u003ctd\u003e0\u003c/td\u003e\n      \u003ctd\u003e2.3\u003c/td\u003e\n      \u003ctd\u003e3\u003c/td\u003e\n      \u003ctd\u003e0.0\u003c/td\u003e\n      \u003ctd\u003e6\u003c/td\u003e\n      \u003ctd\u003e0\u003c/td\u003e\n    \u003c/tr\u003e\n    \u003ctr\u003e\n      \u003cth\u003e1\u003c/th\u003e\n      \u003ctd\u003e67\u003c/td\u003e\n      \u003ctd\u003e1\u003c/td\u003e\n      \u003ctd\u003e4\u003c/td\u003e\n      \u003ctd\u003e160\u003c/td\u003e\n      \u003ctd\u003e286\u003c/td\u003e\n      \u003ctd\u003e0\u003c/td\u003e\n      \u003ctd\u003e2\u003c/td\u003e\n      \u003ctd\u003e108\u003c/td\u003e\n      \u003ctd\u003e1\u003c/td\u003e\n      \u003ctd\u003e1.5\u003c/td\u003e\n      \u003ctd\u003e2\u003c/td\u003e\n      \u003ctd\u003e3.0\u003c/td\u003e\n      \u003ctd\u003e3\u003c/td\u003e\n      \u003ctd\u003e1\u003c/td\u003e\n    \u003c/tr\u003e\n    \u003ctr\u003e\n      \u003cth\u003e2\u003c/th\u003e\n      \u003ctd\u003e67\u003c/td\u003e\n      \u003ctd\u003e1\u003c/td\u003e\n      \u003ctd\u003e4\u003c/td\u003e\n      \u003ctd\u003e120\u003c/td\u003e\n      \u003ctd\u003e229\u003c/td\u003e\n      \u003ctd\u003e0\u003c/td\u003e\n      \u003ctd\u003e2\u003c/td\u003e\n      \u003ctd\u003e129\u003c/td\u003e\n      \u003ctd\u003e1\u003c/td\u003e\n      \u003ctd\u003e2.6\u003c/td\u003e\n      \u003ctd\u003e2\u003c/td\u003e\n      \u003ctd\u003e2.0\u003c/td\u003e\n      \u003ctd\u003e7\u003c/td\u003e\n      \u003ctd\u003e1\u003c/td\u003e\n    \u003c/tr\u003e\n    \u003ctr\u003e\n      \u003cth\u003e3\u003c/th\u003e\n      \u003ctd\u003e37\u003c/td\u003e\n      \u003ctd\u003e1\u003c/td\u003e\n      \u003ctd\u003e3\u003c/td\u003e\n      \u003ctd\u003e130\u003c/td\u003e\n      \u003ctd\u003e250\u003c/td\u003e\n      \u003ctd\u003e0\u003c/td\u003e\n      \u003ctd\u003e0\u003c/td\u003e\n      \u003ctd\u003e187\u003c/td\u003e\n      \u003ctd\u003e0\u003c/td\u003e\n      \u003ctd\u003e3.5\u003c/td\u003e\n      \u003ctd\u003e3\u003c/td\u003e\n      \u003ctd\u003e0.0\u003c/td\u003e\n      \u003ctd\u003e3\u003c/td\u003e\n      \u003ctd\u003e0\u003c/td\u003e\n    \u003c/tr\u003e\n    \u003ctr\u003e\n      \u003cth\u003e4\u003c/th\u003e\n      \u003ctd\u003e41\u003c/td\u003e\n      \u003ctd\u003e0\u003c/td\u003e\n      \u003ctd\u003e2\u003c/td\u003e\n      \u003ctd\u003e130\u003c/td\u003e\n      \u003ctd\u003e204\u003c/td\u003e\n      \u003ctd\u003e0\u003c/td\u003e\n      \u003ctd\u003e2\u003c/td\u003e\n      \u003ctd\u003e172\u003c/td\u003e\n      \u003ctd\u003e0\u003c/td\u003e\n      \u003ctd\u003e1.4\u003c/td\u003e\n      \u003ctd\u003e1\u003c/td\u003e\n      \u003ctd\u003e0.0\u003c/td\u003e\n      \u003ctd\u003e3\u003c/td\u003e\n      \u003ctd\u003e0\u003c/td\u003e\n    \u003c/tr\u003e\n  \u003c/tbody\u003e\n\u003c/table\u003e\n\u003c/div\u003e",
                        "text/plain": "   Age  Sex  cp  restbps  chol  fbs  rest ecg  thalac  exang  oldpeak  slope  \\\n0   63    1   1      145   233    1         2     150      0      2.3      3   \n1   67    1   4      160   286    0         2     108      1      1.5      2   \n2   67    1   4      120   229    0         2     129      1      2.6      2   \n3   37    1   3      130   250    0         0     187      0      3.5      3   \n4   41    0   2      130   204    0         2     172      0      1.4      1   \n\n    ca  thal  num  \n0  0.0     6    0  \n1  3.0     3    1  \n2  2.0     7    1  \n3  0.0     3    0  \n4  0.0     3    0  "
                    },
                    "execution_count": 84,
                    "metadata": {},
                    "output_type": "execute_result"
                }
            ],
            "source": [
                "# read in data\n",
                "df = pd.read_csv(\"cleaned_cleveland2\")\n",
                "df.head()"
            ]
        },
        {
            "cell_type": "code",
            "execution_count": 85,
            "metadata": {},
            "outputs": [
                {
                    "name": "stdout",
                    "output_type": "stream",
                    "text": "(242, 13)\n(61, 13)\n"
                }
            ],
            "source": [
                "from sklearn.model_selection import train_test_split\n",
                "# separate into features and results\n",
                "X = df.drop(\"num\", axis=1)\n",
                "y = df[\"num\"]\n",
                "# split into training and testing\n",
                "X_train, X_test, y_train, y_test = train_test_split(X, y, test_size=0.2, random_state=27)\n",
                "print(X_train.shape)\n",
                "print(X_test.shape)"
            ]
        },
        {
            "attachments": {},
            "cell_type": "markdown",
            "metadata": {},
            "source": [
                "**try different feature selection algorithms and see what features are most commonly selected**"
            ]
        },
        {
            "cell_type": "code",
            "execution_count": 86,
            "metadata": {},
            "outputs": [
                {
                    "name": "stdout",
                    "output_type": "stream",
                    "text": "Feature: 0, Score: 0.081747\nFeature: 1, Score: 0.018763\nFeature: 2, Score: 0.141894\nFeature: 3, Score: 0.051763\nFeature: 4, Score: 0.070743\nFeature: 5, Score: 0.010127\nFeature: 6, Score: 0.026584\nFeature: 7, Score: 0.087418\nFeature: 8, Score: 0.024368\nFeature: 9, Score: 0.078447\nFeature: 10, Score: 0.021384\nFeature: 11, Score: 0.105012\nFeature: 12, Score: 0.281751\n"
                },
                {
                    "data": {
                        "image/png": "[encoded data removed]",
                        "text/plain": "\u003cFigure size 640x480 with 1 Axes\u003e"
                    },
                    "metadata": {},
                    "output_type": "display_data"
                }
            ],
            "source": [
                "# decision tree for feature importance\n",
                "from sklearn.datasets import make_classification\n",
                "from sklearn.tree import DecisionTreeClassifier\n",
                "from matplotlib import pyplot as pyplot\n",
                "# define model\n",
                "model = DecisionTreeClassifier()\n",
                "# fit the model\n",
                "model.fit(X, y)\n",
                "# get importance\n",
                "importance = model.feature_importances_\n",
                "#summarize feature importance\n",
                "for i, v in enumerate(importance):\n",
                "    print(\"Feature: %0d, Score: %5f\" % (i,v))\n",
                "# plot feature importance\n",
                "pyplot.bar([x for x in range(len(importance))], importance)\n",
                "pyplot.show()\n",
                "# top features: Age, cp, thalac, ca, thal"
            ]
        },
        {
            "cell_type": "code",
            "execution_count": 87,
            "metadata": {},
            "outputs": [
                {
                    "name": "stdout",
                    "output_type": "stream",
                    "text": "Feature: 0, Score: 0.087170\nFeature: 1, Score: 0.031618\nFeature: 2, Score: 0.131553\nFeature: 3, Score: 0.073005\nFeature: 4, Score: 0.080776\nFeature: 5, Score: 0.013433\nFeature: 6, Score: 0.019180\nFeature: 7, Score: 0.108937\nFeature: 8, Score: 0.055167\nFeature: 9, Score: 0.111882\nFeature: 10, Score: 0.051598\nFeature: 11, Score: 0.127690\nFeature: 12, Score: 0.107989\n"
                },
                {
                    "data": {
                        "image/png": "[encoded data removed]",
                        "text/plain": "\u003cFigure size 640x480 with 1 Axes\u003e"
                    },
                    "metadata": {},
                    "output_type": "display_data"
                }
            ],
            "source": [
                "# random forest for feature importance\n",
                "from sklearn.ensemble import RandomForestClassifier\n",
                "# define model\n",
                "model2 = RandomForestClassifier()\n",
                "# fit the model\n",
                "model2.fit(X,y)\n",
                "# get importance\n",
                "importance2 = model2.feature_importances_\n",
                "#summarize feature importance\n",
                "for i, v in enumerate(importance2):\n",
                "    print(\"Feature: %0d, Score: %5f\" % (i,v))\n",
                "# plot feature importance\n",
                "pyplot.bar([x for x in range(len(importance2))], importance2)\n",
                "pyplot.show()\n",
                "# top features: Cp, thalac, oldpeak, ca, thal"
            ]
        },
        {
            "cell_type": "code",
            "execution_count": 88,
            "metadata": {},
            "outputs": [
                {
                    "name": "stdout",
                    "output_type": "stream",
                    "text": "[00:11:56] WARNING: ../src/learner.cc:1095: Starting in XGBoost 1.3.0, the default evaluation metric used with the objective 'binary:logistic' was changed from 'error' to 'logloss'. Explicitly set eval_metric if you'd like to restore the old behavior.\nFeature: 0, Score: 0.087170\nFeature: 1, Score: 0.031618\nFeature: 2, Score: 0.131553\nFeature: 3, Score: 0.073005\nFeature: 4, Score: 0.080776\nFeature: 5, Score: 0.013433\nFeature: 6, Score: 0.019180\nFeature: 7, Score: 0.108937\nFeature: 8, Score: 0.055167\nFeature: 9, Score: 0.111882\nFeature: 10, Score: 0.051598\nFeature: 11, Score: 0.127690\nFeature: 12, Score: 0.107989\n"
                },
                {
                    "data": {
                        "image/png": "[encoded data removed]",
                        "text/plain": "\u003cFigure size 640x480 with 1 Axes\u003e"
                    },
                    "metadata": {},
                    "output_type": "display_data"
                }
            ],
            "source": [
                "# xgboost for feature importance\n",
                "from xgboost import XGBClassifier\n",
                "# define model\n",
                "model3 = XGBClassifier(use_label_encoder=False)\n",
                "# fit model\n",
                "model3.fit(X,y)\n",
                "# get importance\n",
                "importance3 = model3.feature_importances_\n",
                "#summarize feature importance\n",
                "for i, v in enumerate(importance2):\n",
                "    print(\"Feature: %0d, Score: %5f\" % (i,v))\n",
                "# plot feature importance\n",
                "pyplot.bar([x for x in range(len(importance3))], importance3)\n",
                "pyplot.show()\n",
                "# top features: cp, thalac, oldepeak, ca, thal"
            ]
        },
        {
            "attachments": {},
            "cell_type": "markdown",
            "metadata": {},
            "source": [
                "**Try different feature selection algorithms and see which ones result in the highest accuracy**"
            ]
        },
        {
            "cell_type": "code",
            "execution_count": 89,
            "metadata": {},
            "outputs": [
                {
                    "name": "stdout",
                    "output_type": "stream",
                    "text": "Accuracy: 85.245902\n"
                }
            ],
            "source": [
                "# evaluation of a model with all features present\n",
                "from sklearn.linear_model import LogisticRegression\n",
                "from sklearn.metrics import accuracy_score\n",
                "# fit the model\n",
                "model = LogisticRegression(solver=\"liblinear\")\n",
                "model.fit(X_train, y_train)\n",
                "# evaluate the model\n",
                "yhat = model.predict(X_test)\n",
                "#evaluate predictions\n",
                "accuracy = accuracy_score(y_test, yhat)\n",
                "print(\"Accuracy: %2f\" % (accuracy*100))"
            ]
        },
        {
            "cell_type": "code",
            "execution_count": 90,
            "metadata": {},
            "outputs": [
                {
                    "name": "stdout",
                    "output_type": "stream",
                    "text": "Accuracy 88.52\nIndex(['cp', 'thalac', 'oldpeak', 'ca', 'thal'], dtype='object')\n"
                }
            ],
            "source": [
                "# random forest \n",
                "# configure to select a subset of features\n",
                "from sklearn.feature_selection import SelectFromModel\n",
                "fs = SelectFromModel(RandomForestClassifier(n_estimators=200), max_features=5)\n",
                "# learn relationship from training data\n",
                "fs.fit(X_train, y_train)\n",
                "# transform train input data\n",
                "X_train_fs = fs.transform(X_train)\n",
                "# transform test input data\n",
                "X_test_fs = fs.transform(X_test)\n",
                "# fit the model\n",
                "model = LogisticRegression(solver=\"liblinear\")\n",
                "model.fit(X_train_fs, y_train)\n",
                "# evaluate the model\n",
                "yhat = model.predict(X_test_fs)\n",
                "#evaluate predictions\n",
                "accuracy = accuracy_score(y_test, yhat)\n",
                "print(\"Accuracy %.2f\" % (accuracy*100))\n",
                "# print which features were selected\n",
                "feature_idx = fs.get_support()\n",
                "feature_name_rf = X.columns[feature_idx]\n",
                "print(feature_name_rf)"
            ]
        },
        {
            "cell_type": "code",
            "execution_count": 91,
            "metadata": {},
            "outputs": [
                {
                    "name": "stdout",
                    "output_type": "stream",
                    "text": "Accuracy 83.61\nIndex(['Age', 'cp', 'chol', 'oldpeak', 'thal'], dtype='object')\n"
                }
            ],
            "source": [
                "# decision tree \n",
                "# configure to select a subset of features\n",
                "from sklearn.feature_selection import SelectFromModel\n",
                "fs = SelectFromModel(DecisionTreeClassifier(), max_features=5)\n",
                "# learn relationship from training data\n",
                "fs.fit(X_train, y_train)\n",
                "# transform train input data\n",
                "X_train_fs = fs.transform(X_train)\n",
                "# transform test input data\n",
                "X_test_fs = fs.transform(X_test)\n",
                "# fit the model\n",
                "model = LogisticRegression(solver=\"liblinear\")\n",
                "model.fit(X_train_fs, y_train)\n",
                "# evaluate the model\n",
                "yhat = model.predict(X_test_fs)\n",
                "#evaluate predictions\n",
                "accuracy = accuracy_score(y_test, yhat)\n",
                "print(\"Accuracy %.2f\" % (accuracy*100))\n",
                "# print which features were selected\n",
                "feature_idx = fs.get_support()\n",
                "feature_name_dt = X.columns[feature_idx]\n",
                "print(feature_name_dt)"
            ]
        },
        {
            "cell_type": "code",
            "execution_count": 92,
            "metadata": {},
            "outputs": [
                {
                    "name": "stdout",
                    "output_type": "stream",
                    "text": "[00:11:56] WARNING: ../src/learner.cc:1095: Starting in XGBoost 1.3.0, the default evaluation metric used with the objective 'binary:logistic' was changed from 'error' to 'logloss'. Explicitly set eval_metric if you'd like to restore the old behavior.\nAccuracy 85.25\nIndex(['cp', 'exang', 'ca', 'thal'], dtype='object')\n"
                }
            ],
            "source": [
                "# xgboost\n",
                "# configure to select a subset of features\n",
                "from sklearn.feature_selection import SelectFromModel\n",
                "fs = SelectFromModel(XGBClassifier(use_label_encoder=False), max_features=5)\n",
                "# learn relationship from training data\n",
                "fs.fit(X_train, y_train)\n",
                "# transform train input data\n",
                "X_train_fs = fs.transform(X_train)\n",
                "# transform test input data\n",
                "X_test_fs = fs.transform(X_test)\n",
                "# fit the model\n",
                "model = LogisticRegression(solver=\"liblinear\")\n",
                "model.fit(X_train_fs, y_train)\n",
                "# evaluate the model\n",
                "yhat = model.predict(X_test_fs)\n",
                "#evaluate predictions\n",
                "accuracy = accuracy_score(y_test, yhat)\n",
                "print(\"Accuracy %.2f\" % (accuracy*100))\n",
                "# print which features were selected\n",
                "feature_idx = fs.get_support()\n",
                "feature_name_xg = X.columns[feature_idx]\n",
                "print(feature_name_xg)"
            ]
        },
        {
            "cell_type": "code",
            "execution_count": 93,
            "metadata": {},
            "outputs": [
                {
                    "name": "stdout",
                    "output_type": "stream",
                    "text": "['Age', 'chol', 'thal', 'cp', 'ca', 'oldpeak', 'thalac']\n"
                }
            ],
            "source": [
                "set_rf = set(feature_name_rf)\n",
                "set_dt = set(feature_name_dt)\n",
                "set_xg = set(feature_name_xg)\n",
                "ls2_not_in_1 = set_dt-set_rf\n",
                "ls3_not_in_1_2 = ls2_not_in_1 - set_xg\n",
                "ls3_not_in_1_2 = list(ls3_not_in_1_2)\n",
                "combined = ls3_not_in_1_2 + list(set_rf)\n",
                "print(combined) # about 5 - 7 of the most predictive features for three different algorithms"
            ]
        }
    ]
}
